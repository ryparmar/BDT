{
 "cells": [
  {
   "cell_type": "markdown",
   "metadata": {},
   "source": [
    "`beeline -u \"jdbc:hive2://hador-c1.ics.muni.cz:10000/default;principal=hive/hador-c1.ics.muni.cz@ICS.MUNI.CZ\"`"
   ]
  },
  {
   "cell_type": "markdown",
   "metadata": {},
   "source": [
    "1 Vytvořte novou databázi nazvanou stejně, jako je vaše uživatelské jméno.\n",
    "\n",
    "`create database jhucin;`"
   ]
  },
  {
   "cell_type": "markdown",
   "metadata": {},
   "source": [
    "2 Vypište si všechny databáze a ověřte, že tam vaše databáze je.\n",
    "\n",
    "`show databases;`"
   ]
  },
  {
   "cell_type": "markdown",
   "metadata": {},
   "source": [
    "3 Přepněte se na svou databázi.\n",
    "\n",
    "`use jhucin;`"
   ]
  },
  {
   "cell_type": "markdown",
   "metadata": {},
   "source": [
    "4 Vytvořte ve své databázi tabulku lide s poli:\n",
    "    - jmeno\n",
    "    - vyska\n",
    "    - vaha\n",
    "    - kod_pohlavi\n",
    "    - datum narozeni\n",
    "\n",
    "\n",
    "\n",
    "```\n",
    "create table lide (\n",
    "jmeno varchar(60),\n",
    "vyska int,\n",
    "vaha float,\n",
    "kod_pohlavi char(1),\n",
    "datum_nar date)\n",
    "\n",
    "```"
   ]
  },
  {
   "cell_type": "markdown",
   "metadata": {},
   "source": [
    "5 Vypište si tabulky ve své databázi a ověřte, že tam tabulka je.\n",
    "\n",
    "`show tables;`"
   ]
  },
  {
   "cell_type": "markdown",
   "metadata": {},
   "source": [
    "6 Vložte do tabulky pět záznamů s libovolnými rozumnými hodnotami.\n",
    "\n",
    "```\n",
    "insert into table lide values\n",
    "('Jan', 170, 64, 'M', '1967-11-08'),\n",
    "('Magda', 168, 61, 'Z', '1974-03-10'),\n",
    "('Karolina', 161, 42, 'Z', '2004-01-25'),\n",
    "('Jakub', 179, 81, 'M', '1970-12-12'),\n",
    "('Tomas', 156, 51, 'M', '2002-08-04');\n",
    "```"
   ]
  },
  {
   "cell_type": "markdown",
   "metadata": {},
   "source": [
    "7 Vypište si celou tabulku.\n",
    "\n",
    "`select * from lide`"
   ]
  },
  {
   "cell_type": "markdown",
   "metadata": {},
   "source": [
    "8 Vypište si pouze ženy nad 170 cm.\n",
    "\n",
    "`select * from lide where kod_pohlavi='F' and vyska > 170`"
   ]
  },
  {
   "cell_type": "markdown",
   "metadata": {},
   "source": [
    "9 Vypište člověka s největší váhou.\n",
    "\n",
    "`select * from lide order by vaha desc limit 1`"
   ]
  },
  {
   "cell_type": "markdown",
   "metadata": {},
   "source": [
    "10 Vypište tabulku se jmény a věkem v celých rocích.\n",
    "\n",
    "`select jmeno, floor(months_between('2017-10-17', datum_nar)/12) as roky from lide`"
   ]
  },
  {
   "cell_type": "markdown",
   "metadata": {},
   "source": [
    "11 Vytvořte si dále ve své databázi tabulku pohlavi s poli:\n",
    "    - kod_pohlavi\n",
    "    - popis\n",
    "\n",
    "`create table pohlavi (kod_pohlavi char(1), popis varchar(20))`"
   ]
  },
  {
   "cell_type": "markdown",
   "metadata": {},
   "source": [
    "12 Vložte do této tabulky záznamy za kódy pro muže, pro ženu a nějaký další kód.\n",
    "\n",
    "`insert into table pohlavi values ('M', 'Muz'), ('F', 'Zena'), ('N', 'Neuvedeno')`"
   ]
  },
  {
   "cell_type": "markdown",
   "metadata": {},
   "source": [
    "13 Vypište znovu celou tabulku lide s připojenou tabulkou pohlavi;\n",
    "\n",
    "popis pohlaví místo kódu.\n",
    "- vypíše jen řádky, kde jsou kódy pohlaví v obou tabulkách shodné\n",
    "\n",
    "```\n",
    "select lide.jmeno, pohlavi.popis from lide\n",
    "join pohlavi on lide.kod_pohlavi=pohlavi.kod_pohlavi\n",
    "```\n",
    "- vypíše i řádky, kde kód pohlaví neodpovídá druhé tabulce - doplní se NULL\n",
    "\n",
    "```\n",
    "select lide.jmeno, pohlavi.popis from lide\n",
    "right join pohlavi on lide.kod_pohlavi=pohlavi.kod_pohlavi\n",
    "```\n",
    "- vypíše všechny kombinace řádků z první i druhé tabulky\n",
    "\n",
    "```\n",
    "select lide.jmeno, pohlavi.popis from lide\n",
    "cross join pohlavi\n",
    "```"
   ]
  },
  {
   "cell_type": "markdown",
   "metadata": {},
   "source": [
    "14 Vypočtěte průměrnou výšku pro muže a pro ženy.\n",
    "\n",
    "```select kod_pohlavi, avg(vyska) as vyska_prum from lide group by kod_pohlavi```"
   ]
  },
  {
   "cell_type": "markdown",
   "metadata": {},
   "source": [
    "15 Vypočtěte rozdíl mezi průměrnou váhou mužů a průměrnou váhou žen.\n",
    "\n",
    "```\n",
    "select max(prum.vaha_prum)-min(prum.vaha_prum) from\n",
    "(select kod_pohlavi, avg(vaha) as vaha_prum from lide group by kod_pohlavi) as prum\n",
    "```"
   ]
  }
 ],
 "metadata": {
  "kernelspec": {
   "display_name": "Python 2",
   "language": "python",
   "name": "python2"
  },
  "language_info": {
   "codemirror_mode": {
    "name": "ipython",
    "version": 2
   },
   "file_extension": ".py",
   "mimetype": "text/x-python",
   "name": "python",
   "nbconvert_exporter": "python",
   "pygments_lexer": "ipython2",
   "version": "2.7.13"
  }
 },
 "nbformat": 4,
 "nbformat_minor": 2
}
