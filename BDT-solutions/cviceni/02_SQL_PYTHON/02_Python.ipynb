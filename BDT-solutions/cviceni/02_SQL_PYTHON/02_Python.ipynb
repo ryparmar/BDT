{
 "cells": [
  {
   "cell_type": "code",
   "execution_count": null,
   "metadata": {
    "collapsed": false
   },
   "outputs": [],
   "source": [
    "import random\n",
    "arr = [random.randint(0, 10) for i in xrange(20)]"
   ]
  },
  {
   "cell_type": "code",
   "execution_count": null,
   "metadata": {
    "collapsed": false,
    "scrolled": true
   },
   "outputs": [],
   "source": [
    "print arr"
   ]
  },
  {
   "cell_type": "markdown",
   "metadata": {},
   "source": [
    "1\n",
    "vypsat kazdy druhy prvek pole"
   ]
  },
  {
   "cell_type": "code",
   "execution_count": null,
   "metadata": {
    "collapsed": true
   },
   "outputs": [],
   "source": [
    "# this construction is called list comprehension \n",
    "# http://www.pythonforbeginners.com/basics/list-comprehensions-in-python\n",
    "# enumerate allows you iterate over an array with index\n",
    "print [x for i, x in enumerate(arr) if i % 2 == 1]"
   ]
  },
  {
   "cell_type": "markdown",
   "metadata": {},
   "source": [
    "2\n",
    "vypsat kazdy druhy prvek pole ktery je vetsi nez 5"
   ]
  },
  {
   "cell_type": "code",
   "execution_count": null,
   "metadata": {
    "collapsed": true
   },
   "outputs": [],
   "source": [
    "# you also can use conditions in comprehensions\n",
    "print [x for i, x in enumerate(arr) if i % 2 == 0 and x > 5]"
   ]
  },
  {
   "cell_type": "markdown",
   "metadata": {},
   "source": [
    "3 vytvorit pole ktere obsahuje druhe mocniny prvniho pole"
   ]
  },
  {
   "cell_type": "code",
   "execution_count": null,
   "metadata": {
    "collapsed": true
   },
   "outputs": [],
   "source": [
    "# instead of using math.pow you can use x ** 2\n",
    "print [x**2 for i, x in enumerate(arr)]"
   ]
  },
  {
   "cell_type": "markdown",
   "metadata": {},
   "source": [
    "4 vypsat unikatni prvky"
   ]
  },
  {
   "cell_type": "code",
   "execution_count": null,
   "metadata": {
    "collapsed": true
   },
   "outputs": [],
   "source": [
    "# set - is data structure without duplicates\n",
    "print set(arr)"
   ]
  },
  {
   "cell_type": "markdown",
   "metadata": {},
   "source": [
    "5 napsat funkce ktera vraci dvojici (min, max) pro dane pole"
   ]
  },
  {
   "cell_type": "code",
   "execution_count": null,
   "metadata": {
    "collapsed": true
   },
   "outputs": [],
   "source": [
    "# python has a few nice and useful built-ins \n",
    "# one of them are array functions: min, max, sum\n",
    "def minmax(a):\n",
    "    return min(a), max(a)\n",
    "\n",
    "print minmax(arr)"
   ]
  },
  {
   "cell_type": "markdown",
   "metadata": {},
   "source": [
    "6 napsat funkce ktera vraci dvojici objekt/slovnij {min:min(a), max:max(a)} pro dane pole"
   ]
  },
  {
   "cell_type": "code",
   "execution_count": null,
   "metadata": {
    "collapsed": true
   },
   "outputs": [],
   "source": [
    "# {} - create a new dictionary, which can be used a untyped dynamic generic object without schema\n",
    "def minmax(a):\n",
    "    return {\n",
    "        'min': min(a), \n",
    "        'max': max(a)\n",
    "    }\n",
    "\n",
    "print minmax(arr)"
   ]
  },
  {
   "cell_type": "markdown",
   "metadata": {},
   "source": [
    "7 Invert case for string"
   ]
  },
  {
   "cell_type": "code",
   "execution_count": null,
   "metadata": {
    "collapsed": true
   },
   "outputs": [],
   "source": [
    "some_string = \"sOmE SiImPLe\""
   ]
  },
  {
   "cell_type": "code",
   "execution_count": null,
   "metadata": {
    "collapsed": false
   },
   "outputs": [],
   "source": [
    "def invert(c):\n",
    "    \"\"\"\n",
    "    re - is the regular explression module\n",
    "    [a-z] means match any lower case character\n",
    "    https://docs.python.org/2/library/re.html\n",
    "    \"\"\"\n",
    "    import re\n",
    "    if re.match('[a-z]', c):\n",
    "        return c.upper()\n",
    "    return c.lower()\n",
    "\n",
    "# python has also a few built-in functions for functional processing\n",
    "# map, filter\n",
    "# here we treat a string as a list of characters\n",
    "\n",
    "print ''.join(map(invert, some_string))"
   ]
  },
  {
   "cell_type": "markdown",
   "metadata": {},
   "source": [
    "8 convert unixtime to datetime and print in format yyyy-mm-dd HH:MM"
   ]
  },
  {
   "cell_type": "code",
   "execution_count": null,
   "metadata": {
    "collapsed": false
   },
   "outputs": [],
   "source": [
    "import datetime\n",
    "\n",
    "# formatting https://docs.python.org/2/library/datetime.html#strftime-and-strptime-behavior\n",
    "# follows C-style\n",
    "\n",
    "datetime.datetime.fromtimestamp(1508489890).strftime('%Y-%m-%d %H:%M')"
   ]
  },
  {
   "cell_type": "markdown",
   "metadata": {},
   "source": [
    "9 find how many seconds/days/weeks ellapsed from last solar explipce (August 21, 2017 18:26:40 UTC)"
   ]
  },
  {
   "cell_type": "code",
   "execution_count": null,
   "metadata": {
    "collapsed": false
   },
   "outputs": [],
   "source": [
    "# if you substract 2 dates, resulting object is timedelta\n",
    "# https://docs.python.org/2/library/datetime.html#timedelta-objects\n",
    "\n",
    "delta = datetime.datetime.now() - datetime.datetime(2017, 8, 21, 18, 26)\n",
    "\n",
    "print 'Ellapsed {0} seconds'.format(delta.seconds)\n",
    "print 'Ellapsed {0} days'.format(delta.days)\n",
    "print 'Ellapsed {0} weeks'.format(delta.days / 7.0)"
   ]
  },
  {
   "cell_type": "markdown",
   "metadata": {},
   "source": [
    "10 pocet slov se stringu. slovo je vsechno mezi mezerou"
   ]
  },
  {
   "cell_type": "code",
   "execution_count": null,
   "metadata": {
    "collapsed": false
   },
   "outputs": [],
   "source": [
    "# built-in function len returns number of elements in array\n",
    "\n",
    "sample_string = \"Give a man a fire and he's warm for the day. But set fire to him and he's warm for the rest of his life.\"\n",
    "\n",
    "print len(sample_string.split())"
   ]
  },
  {
   "cell_type": "markdown",
   "metadata": {},
   "source": [
    "11 word count, find number of occurences of words in the string\n",
    "\n",
    "item : frequency"
   ]
  },
  {
   "cell_type": "code",
   "execution_count": null,
   "metadata": {
    "collapsed": false
   },
   "outputs": [],
   "source": [
    "word_freq = {}\n",
    "for word in sample_string.lower().split():\n",
    "    # you should test whether an item is in the dict\n",
    "    # using `in` keyword\n",
    "    if word in word_freq:\n",
    "        word_freq[word] += 1\n",
    "    else:\n",
    "        word_freq[word] = 1\n",
    "\n",
    "# another useful built-in function sorted\n",
    "# returns a sorted array\n",
    "print sorted(word_freq.items(), key=lambda x: -x[1])"
   ]
  },
  {
   "cell_type": "markdown",
   "metadata": {},
   "source": [
    "12 zjistit kdo ma svatek v den vasero narozen http://svatky.adresa.info/json?date=ddmm"
   ]
  },
  {
   "cell_type": "code",
   "execution_count": null,
   "metadata": {
    "collapsed": false
   },
   "outputs": [],
   "source": [
    "import requests\n",
    "# send a get request\n",
    "resp = requests.get('http://svatky.adresa.info/json?date=1503')\n",
    "\n",
    "print resp.json()[0]['name']"
   ]
  }
 ],
 "metadata": {
  "kernelspec": {
   "display_name": "Python 2",
   "language": "python",
   "name": "python2"
  },
  "language_info": {
   "codemirror_mode": {
    "name": "ipython",
    "version": 2
   },
   "file_extension": ".py",
   "mimetype": "text/x-python",
   "name": "python",
   "nbconvert_exporter": "python",
   "pygments_lexer": "ipython2",
   "version": "2.7.13"
  }
 },
 "nbformat": 4,
 "nbformat_minor": 2
}
