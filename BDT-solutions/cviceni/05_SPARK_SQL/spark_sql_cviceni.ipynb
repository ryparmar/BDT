{
 "cells": [
  {
   "cell_type": "markdown",
   "metadata": {
    "collapsed": true
   },
   "source": [
    "Spousteni pyspark\n",
    "\n",
    "`pyspark --num-executors 2 --executor-memory 1500M --packages com.databricks:spark-csv_2.10:1.5.0 --master yarn`"
   ]
  },
  {
   "cell_type": "code",
   "execution_count": null,
   "metadata": {
    "collapsed": true
   },
   "outputs": [],
   "source": [
    "# uzitecne importy\n",
    "\n",
    "from pyspark.sql.types import *\n",
    "from pyspark.sql import functions as F\n",
    "import re\n",
    "from itertools import cycle"
   ]
  },
  {
   "cell_type": "markdown",
   "metadata": {},
   "source": [
    "1 Načtěte soubor se stopwords."
   ]
  },
  {
   "cell_type": "code",
   "execution_count": null,
   "metadata": {
    "collapsed": true
   },
   "outputs": [],
   "source": [
    "stopw = sc.textFile(\"/user/pascepet/stopwords.txt\").collect()\n",
    "stopw = set(stopw)"
   ]
  },
  {
   "cell_type": "markdown",
   "metadata": {},
   "source": [
    "2 Načtěte písňové texty z CSV přímo do DataFrame s definicí schématu, nakešujte:\n",
    "\n",
    "cesta `/user/pascepet/lyrics_data/`\n",
    "\n",
    "oddelovac `','`\n",
    "\n",
    "schema\n",
    "\n",
    "```\n",
    "id – long\n",
    "album – string\n",
    "rok – integer\n",
    "interpret – string\n",
    "zanr – string\n",
    "text – string\n",
    "```"
   ]
  },
  {
   "cell_type": "code",
   "execution_count": null,
   "metadata": {
    "collapsed": true
   },
   "outputs": [],
   "source": [
    "schema_lyrics = StructType([\n",
    "    StructField(\"id\", LongType(), True),\n",
    "    StructField(\"album\", StringType(), True),\n",
    "    StructField(\"rok\", IntegerType(), True),\n",
    "    StructField(\"interpret\", StringType(), True),\n",
    "    StructField(\"zanr\", StringType(), True),\n",
    "    StructField(\"text\", StringType(), True)])\n",
    "\n",
    "# a nyni nacteni souboru\n",
    "songsDF = sqlContext.read \\\n",
    "    .format(\"com.databricks.spark.csv\") \\\n",
    "    .option(\"header\", \"false\") \\\n",
    "    .option(\"delimiter\", \",\") \\\n",
    "    .schema(schema_lyrics) \\\n",
    "    .load(\"/user/pascepet/lyrics_data/\") \\\n",
    "    .cache()"
   ]
  },
  {
   "cell_type": "markdown",
   "metadata": {},
   "source": [
    "3 Přidejte pole `poc_slov`, které bude obsahovat počet slov v textu příslušné písně (slovo je část řetězce mezi dvěma mezerami). \n",
    "Obtížnější varianta: přidejte pole `pocet_slov_unik`, které bude obsahovat počet unikátních slov po převedení na malá písmena a vyhození znaků `,.:;!?()[]`\n"
   ]
  },
  {
   "cell_type": "code",
   "execution_count": null,
   "metadata": {
    "collapsed": true
   },
   "outputs": [],
   "source": [
    "songsDF = songsDF.withColumn('poc_slov', F.size(F.split(songsDF.text, ' ')))\n",
    "\n",
    "songsDF = songsDF.withColumn('text_upr', F.lower(F.regexp_replace(songsDF.text, '[,.;:?!()\\[\\]]', '')))  # na mala pismena, procistit\n",
    "songsDF = songsDF.withColumn('text_upr2', F.split(songsDF.text_upr, ' '))  # rozdelit na slova => v poli je array jednotlivych slov\n",
    "countUniq = F.udf(lambda a: len(set(a))) # pocet unikatnich - abychom mohli pouzit funkce Pythonu, musime definovat uzivatelskou funkci\n",
    "songsDF = songsDF.withColumn('poc_slov_unik', countUniq(songsDF.text_upr2))  # ... a tu aplikovat na array ve sloupci\n",
    "songsDF = songsDF.drop('text_upr').drop('text_upr2')  # vyhodime pracovni sloupce\n",
    "\n",
    "songsDF.cache() # nove nakesovani - nepovinne, ale uzitecne"
   ]
  },
  {
   "cell_type": "markdown",
   "metadata": {},
   "source": [
    "4 Spočtěte za každého interpreta průměrný počet slov v textu a vypište 20 interpretů s nejvyšším průměrem, ale jen takových, kteří mají v datech aspoň 10 písní.\n"
   ]
  },
  {
   "cell_type": "code",
   "execution_count": null,
   "metadata": {
    "collapsed": true
   },
   "outputs": [],
   "source": [
    "songsDF.registerTempTable(\"songs\")\n",
    "sqlContext.sql(\"\"\"select interpret, avg(poc_slov) as prum_slov, count(*) as poc_pisni from songs\n",
    "    group by interpret\n",
    "    order by prum_slov desc\n",
    "    \"\"\").filter(\"poc_pisni>=10\").show(20)"
   ]
  },
  {
   "cell_type": "markdown",
   "metadata": {},
   "source": [
    "5 Zjistěte, kteří interpreti mají v datech aspoň 500 písní."
   ]
  },
  {
   "cell_type": "code",
   "execution_count": null,
   "metadata": {
    "collapsed": true
   },
   "outputs": [],
   "source": [
    "interprets = songsDF.groupBy('interpret').count() \\\n",
    "    .toDF('interpret', 'pocet').filter(\"pocet >= 500\")\n",
    "\n",
    "interprets.show()"
   ]
  },
  {
   "cell_type": "markdown",
   "metadata": {},
   "source": [
    "6 Najděte 20 nejčastěji se vyskytujících slov, která nejsou v stopwords. Každé slovo se počítá tolikrát, kolikrát v textu je. (Obtížnější varianta: každé slovo se počítá nejvýše jednou za každou píseň.)"
   ]
  },
  {
   "cell_type": "code",
   "execution_count": null,
   "metadata": {
    "collapsed": true
   },
   "outputs": [],
   "source": [
    "words_top = songsDF.flatMap(lambda r: strClean(r[5]).split(\" \")) \\\n",
    "    .filter(lambda r: r not in stopw) \\\n",
    "    .map(lambda r: (r, 1)) \\\n",
    "    .reduceByKey(lambda a, b: a + b) \\\n",
    "    .sortBy(lambda r: r[1], False)\n",
    "\n",
    "words_top.take(20)"
   ]
  },
  {
   "cell_type": "markdown",
   "metadata": {},
   "source": [
    "7 Vybrat z nejčastěji se vyskytujících slov pět charakteristických a k DataFrame s písněmi přidejte pro každé vybrané slovo příznak, zda se dané slovo v dané písni vyskytuje (0/1 nebo False/True)."
   ]
  },
  {
   "cell_type": "code",
   "execution_count": null,
   "metadata": {
    "collapsed": true
   },
   "outputs": [],
   "source": [
    "words_top_dist = songsDF.flatMap(lambda r: list(set(strClean(r[5]).split(\" \")))) \\\n",
    "    .filter(lambda r: r not in stopw) \\\n",
    "    .map(lambda r: (r, 1)) \\\n",
    "    .reduceByKey(lambda a, b: a + b) \\\n",
    "    .sortBy(lambda r: r[1], False)\n",
    "\n",
    "words_top_dist.take(20)\n",
    "\n",
    "\n",
    "songsDF = songsDF.withColumn('text_lower',\n",
    "                             F.lower('text'))  # pripoji se sloupec s textem transformovanym na mala pismena\n",
    "songsDF = songsDF.withColumn('is_love', F.when(F.regexp_extract('text', '\\W(love)\\W', 1) == 'love', 1).otherwise(0))\n",
    "songsDF = songsDF.withColumn('is_never', F.when(F.regexp_extract('text', '\\W(never)\\W', 1) == 'never', 1).otherwise(0))\n",
    "songsDF = songsDF.withColumn('is_back', F.when(F.regexp_extract('text', '\\W(back)\\W', 1) == 'back', 1).otherwise(0))\n",
    "songsDF = songsDF.withColumn('is_say', F.when(F.regexp_extract('text', '\\W(say)\\W', 1) == 'say', 1).otherwise(0))\n",
    "songsDF = songsDF.withColumn('is_now', F.when(F.regexp_extract('text', '\\W(now)\\W', 1) == 'now', 1).otherwise(0))\n",
    "songsDF = songsDF.drop('text_lower')  # pomocny sloupec se zase vyhodi"
   ]
  },
  {
   "cell_type": "markdown",
   "metadata": {},
   "source": [
    "8 Vyberte z interpretů s nejvyššími zastoupením pět a pro každého spočtěte podíl výskytu každého z pěti slov vybraných výše (podíl = počet písní s výskytem slova / počet všech písní interpreta). Najděte dvojice interpretů s nejpodobnějšími a nejméně podobnými podíly."
   ]
  },
  {
   "cell_type": "code",
   "execution_count": null,
   "metadata": {
    "collapsed": true
   },
   "outputs": [],
   "source": [
    "songsDF = songsDF.withColumn('dummy1', F.lit(1))  # vsude se prida jednicka - jejich souctem vznikne pocet\n",
    "interprets_words = songsDF.select('interpret', 'dummy1', 'is_love', 'is_never', 'is_back', 'is_say', 'is_now') \\\n",
    "    .filter(\"interpret in ('bob-dylan', 'eminem', 'elton-john', 'frank-zappa', 'celine-dion')\") \\\n",
    "    .groupBy('interpret') \\\n",
    "    .sum() \\\n",
    "    .toDF('interpret', 'pocet', 'pocet_love', 'pocet_never', 'pocet_back', 'pocet_say', 'pocet_now')\n",
    "\n",
    "interprets_words = interprets_words.withColumn('podil_love',\n",
    "                                               F.round(interprets_words.pocet_love / interprets_words.pocet, 3)) \\\n",
    "    .withColumn('podil_never', F.round(interprets_words.pocet_never / interprets_words.pocet, 3)) \\\n",
    "    .withColumn('podil_back', F.round(interprets_words.pocet_back / interprets_words.pocet, 3)) \\\n",
    "    .withColumn('podil_say', F.round(interprets_words.pocet_say / interprets_words.pocet, 3)) \\\n",
    "    .withColumn('podil_now', F.round(interprets_words.pocet_now / interprets_words.pocet, 3)) \\\n",
    "    .select('interpret', 'podil_love', 'podil_never', 'podil_back', 'podil_say', 'podil_now')\n",
    "\n",
    "interprets_words.show()"
   ]
  }
 ],
 "metadata": {
  "kernelspec": {
   "display_name": "Python 2",
   "language": "python",
   "name": "python2"
  },
  "language_info": {
   "codemirror_mode": {
    "name": "ipython",
    "version": 2
   },
   "file_extension": ".py",
   "mimetype": "text/x-python",
   "name": "python",
   "nbconvert_exporter": "python",
   "pygments_lexer": "ipython2",
   "version": "2.7.13"
  }
 },
 "nbformat": 4,
 "nbformat_minor": 1
}
