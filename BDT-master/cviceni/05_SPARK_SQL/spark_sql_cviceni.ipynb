{
 "cells": [
  {
   "cell_type": "markdown",
   "metadata": {
    "collapsed": true
   },
   "source": [
    "Spousteni pyspark\n",
    "\n",
    "`pyspark --num-executors 2 --executor-memory 1500M --packages com.databricks:spark-csv_2.10:1.5.0 --master yarn`"
   ]
  },
  {
   "cell_type": "code",
   "execution_count": null,
   "metadata": {
    "collapsed": true
   },
   "outputs": [],
   "source": [
    "# uzitecne importy\n",
    "\n",
    "from pyspark.sql.types import *\n",
    "from pyspark.sql import functions as F\n",
    "import re\n",
    "from itertools import cycle"
   ]
  },
  {
   "cell_type": "markdown",
   "metadata": {},
   "source": [
    "1 Načtěte soubor se stopwords."
   ]
  },
  {
   "cell_type": "markdown",
   "metadata": {},
   "source": [
    "2 Načtěte písňové texty z CSV přímo do DataFrame s definicí schématu, nakešujte:\n",
    "\n",
    "cesta `/user/pascepet/lyrics_data/`\n",
    "\n",
    "oddelovac `','`\n",
    "\n",
    "schema\n",
    "\n",
    "```\n",
    "id – long\n",
    "album – string\n",
    "rok – integer\n",
    "interpret – string\n",
    "zanr – string\n",
    "text – string\n",
    "```"
   ]
  },
  {
   "cell_type": "markdown",
   "metadata": {},
   "source": [
    "3 Přidejte pole `poc_slov`, které bude obsahovat počet slov v textu příslušné písně (slovo je část řetězce mezi dvěma mezerami). \n",
    "Obtížnější varianta: přidejte pole `pocet_slov_unik`, které bude obsahovat počet unikátních slov po převedení na malá písmena a vyhození znaků `,.:;!?()[]`\n"
   ]
  },
  {
   "cell_type": "markdown",
   "metadata": {},
   "source": [
    "4 Spočtěte za každého interpreta průměrný počet slov v textu a vypište 20 interpretů s nejvyšším průměrem, ale jen takových, kteří mají v datech aspoň 10 písní.\n"
   ]
  },
  {
   "cell_type": "markdown",
   "metadata": {},
   "source": [
    "5 Zjistěte, kteří interpreti mají v datech aspoň 500 písní."
   ]
  },
  {
   "cell_type": "markdown",
   "metadata": {},
   "source": [
    "6 Najděte 20 nejčastěji se vyskytujících slov, která nejsou v stopwords. Každé slovo se počítá tolikrát, kolikrát v textu je. (Obtížnější varianta: každé slovo se počítá nejvýše jednou za každou píseň.)"
   ]
  },
  {
   "cell_type": "markdown",
   "metadata": {},
   "source": [
    "7 Vybrat z nejčastěji se vyskytujících slov pět charakteristických a k DataFrame s písněmi přidejte pro každé vybrané slovo příznak, zda se dané slovo v dané písni vyskytuje (0/1 nebo False/True)."
   ]
  },
  {
   "cell_type": "markdown",
   "metadata": {},
   "source": [
    "8 Vyberte z interpretů s nejvyššími zastoupením pět a pro každého spočtěte podíl výskytu každého z pěti slov vybraných výše (podíl = počet písní s výskytem slova / počet všech písní interpreta). Najděte dvojice interpretů s nejpodobnějšími a nejméně podobnými podíly."
   ]
  }
 ],
 "metadata": {
  "kernelspec": {
   "display_name": "Python 2",
   "language": "python",
   "name": "python2"
  },
  "language_info": {
   "codemirror_mode": {
    "name": "ipython",
    "version": 2
   },
   "file_extension": ".py",
   "mimetype": "text/x-python",
   "name": "python",
   "nbconvert_exporter": "python",
   "pygments_lexer": "ipython2",
   "version": "2.7.11"
  }
 },
 "nbformat": 4,
 "nbformat_minor": 1
}
