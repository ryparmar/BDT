{
 "cells": [
  {
   "cell_type": "markdown",
   "metadata": {},
   "source": [
    "Uzitecne python funkce"
   ]
  },
  {
   "cell_type": "code",
   "execution_count": 9,
   "metadata": {
    "collapsed": false
   },
   "outputs": [
    {
     "name": "stdout",
     "output_type": "stream",
     "text": [
      "Delka stringu je 17\n",
      "String obsahuje slova ['Hello', 'cruel', 'world']\n",
      "Lowercase  hello cruel world\n",
      "Delka pole je 3\n",
      "Prvni prvek v poli je Hello\n",
      "Posledni prvek v poli je world\n"
     ]
    }
   ],
   "source": [
    "my_string = \"Hello cruel world\"\n",
    "my_list = my_string.split()\n",
    "print 'Delka stringu je', len(my_string)\n",
    "print 'String obsahuje slova', my_string.split()\n",
    "print 'Lowercase ', my_string.lower()\n",
    "print 'Delka pole je', len(my_list)\n",
    "print 'Prvni prvek v poli je', my_list[0]\n",
    "print 'Posledni prvek v poli je', my_list[-1]"
   ]
  },
  {
   "cell_type": "markdown",
   "metadata": {},
   "source": [
    "# Spustit interaktivni shell Spark-pythonu\n",
    "\n",
    "`pyspark --master yarn --num-executors 4`"
   ]
  },
  {
   "cell_type": "markdown",
   "metadata": {},
   "source": [
    "### word count nebo Hello hadoop"
   ]
  },
  {
   "cell_type": "code",
   "execution_count": null,
   "metadata": {
    "collapsed": false
   },
   "outputs": [],
   "source": [
    "def split_string(verse):    \n",
    "    return verse.split(' ')\n",
    "\n",
    "lines = sc.textFile(\"/user/pascepet/bible.txt\")\n",
    "words = lines.flatMap(split_string)\n",
    "pairs = words.map(lambda word: (word, 1))\n",
    "counts = pairs.reduceByKey(lambda a, b: a + b)"
   ]
  },
  {
   "cell_type": "markdown",
   "metadata": {},
   "source": [
    "# samostatny ukol c.1"
   ]
  },
  {
   "cell_type": "markdown",
   "metadata": {},
   "source": [
    "### Ukol \n",
    "\n",
    "Spocitat pocet unikatnich slov v kazdem verse a najit vers s nejvetsim poctem slov\n",
    "\n",
    "### Data\n",
    "\n",
    "`hdfs:///user/pascepet/bible.txt`\n",
    "\n",
    "### Ocekavany vystup\n",
    "\n",
    "| verse_id | pocet_slov |\n",
    "|:---------|:-----------|\n",
    "|          |            |"
   ]
  },
  {
   "cell_type": "markdown",
   "metadata": {},
   "source": [
    "### Bonus odfiltrovat stop-slova pomoci [Spark broadcast](https://spark.apache.org/docs/latest/rdd-programming-guide.html#broadcast-variables)"
   ]
  },
  {
   "cell_type": "code",
   "execution_count": null,
   "metadata": {
    "collapsed": false
   },
   "outputs": [],
   "source": [
    "# nacist stop slova do mnoziny muzete pomoci prikazu\n",
    "with open('/tmp/pascepet/stopwords.txt') as stopwords_file:\n",
    "    stopwords = set([x.replace('\\n', '') for x in stopwords_file.readlines()])"
   ]
  },
  {
   "cell_type": "markdown",
   "metadata": {},
   "source": [
    "# samostatny ukol c.2"
   ]
  },
  {
   "cell_type": "markdown",
   "metadata": {},
   "source": [
    "### Ukol \n",
    "Vypsat top 10 zakazniku z nejvyssi utratou/nejvetsim zustatkem za dane obdobi\n",
    "\n",
    "### Data \n",
    "\n",
    "`hdfs:///user/pascepet/tranzakce/`\n",
    "\n",
    "### Vstupni data\n",
    "\n",
    "`csv soubory, oddelovac ','`\n",
    "\n",
    "| id zakaznika | id protiuctu | castka | je odchozi |\n",
    "|:-------------|:-------------|:-------|:-----------|\n",
    "| 1202         | 2456         | 564    | True       |\n",
    "\n",
    "\n",
    "### Ocekavany vystup\n",
    "\n",
    "| id zakaznika | aktualni zustatek | utrata | \n",
    "|:-------------|:------------------|:-------|\n",
    "| 1202         | -200              | 450    |\n",
    "\n"
   ]
  },
  {
   "cell_type": "markdown",
   "metadata": {},
   "source": [
    "# samostatny ukol c.3"
   ]
  },
  {
   "cell_type": "markdown",
   "metadata": {},
   "source": [
    "### Ukol\n",
    "Pro kazdeho zakaznika spocitat podil odchozich volani a pomer poctu kontakty ku poctu volani\n",
    "\n",
    "### Data\n",
    "\n",
    "`hdfs:///user/pascepet/spark_sql/cdr_sample/`\n",
    "\n",
    "### Vstup\n",
    "\n",
    "| typ rekordu | timestamp | duration | frommsisdn_prefix | frommsisdn | tomsisdn_prefix | tomsisdn |\n",
    "|:------------|:----------|:---------|:------------------|:-----------|:----------------|:---------|\n",
    "\n",
    "### Vystup\n",
    "\n",
    "| frommsisdn | moc_% | number_ratio |\n",
    "|:-----------|:------|:-------------|\n"
   ]
  },
  {
   "cell_type": "code",
   "execution_count": null,
   "metadata": {
    "collapsed": false
   },
   "outputs": [],
   "source": [
    "# data ulozena v parquet formatu, pro nacitani parquet souboru pouzijte \n",
    "\n",
    "rdd = sqlContext.read.parquet('hdfs://spark_sql/cdr_sample/').rdd"
   ]
  }
 ],
 "metadata": {
  "kernelspec": {
   "display_name": "Python 2",
   "language": "python",
   "name": "python2"
  },
  "language_info": {
   "codemirror_mode": {
    "name": "ipython",
    "version": 2
   },
   "file_extension": ".py",
   "mimetype": "text/x-python",
   "name": "python",
   "nbconvert_exporter": "python",
   "pygments_lexer": "ipython2",
   "version": "2.7.13"
  }
 },
 "nbformat": 4,
 "nbformat_minor": 2
}
