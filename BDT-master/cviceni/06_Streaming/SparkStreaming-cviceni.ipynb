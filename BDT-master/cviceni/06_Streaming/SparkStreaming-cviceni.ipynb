{
 "cells": [
  {
   "cell_type": "markdown",
   "metadata": {},
   "source": [
    "# Rozchozeni zakladniho Spark Streaming prikladu\n",
    "\n",
    "1. Na klasteru vytvorit soubor `network_wordcount.py` a vlozit obsah z [prikladu](https://github.com/apache/spark/blob/branch-1.6/examples/src/main/python/streaming/network_wordcount.py)\n",
    "\n",
    "2. Pripojit se na klaster v terminalu-1 a spustit `nc -lk 5ddmm`, kde `ddmm` je vas datum narozeni \n",
    "\n",
    "3. Otevrete druhy terminal a spustite priklad pomoci prikazu `spark-submit --master yarn --num-executors 4 network_wordcount.py hador.ics.muni.cz 5ddmm`\n",
    "\n",
    "4. Muzete zacit psat zpravy do terminalu-1\n",
    "\n",
    "5. Upravit priklad tak aby vypisoval slova serazene podle abcedy"
   ]
  },
  {
   "cell_type": "markdown",
   "metadata": {},
   "source": [
    "# Rozchozeni stateful Spark Streaming prikladu\n",
    "\n",
    "1. Na klasteru vytvorit soubor `network_wordcount.py` a vlozit obsah z [prikladu](https://github.com/apache/spark/blob/branch-1.6/examples/src/main/python/streaming/stateful_network_wordcount.py)\n",
    "\n",
    "2. Pripojit se na klaster v terminalu-1 a spustit `nc -lk 5ddmm`, kde `ddmm` je vas datum narozeni \n",
    "\n",
    "3. Otevrete druhy terminal a spustite priklad pomoci prikazu `spark-submit --master yarn --num-executors 4 network_wordcount.py hador.ics.muni.cz 5ddmm`\n",
    "\n",
    "4. Muzete zacit psat zpravy do terminalu-1\n",
    "\n",
    "5. Upravit priklad tak aby vypisoval top-10 slov\n",
    "6. Upravit priklad tak aby vypisoval histogram delek zprav"
   ]
  },
  {
   "cell_type": "markdown",
   "metadata": {},
   "source": [
    "# Nacitani streamu\n",
    "\n",
    "1. Zkopirovat na klaster `generator.py`\n",
    "2. Zpustit generator zprav `python generator.py 5ddmm`\n",
    "\n",
    "Priklad zpravy\n",
    "```json\n",
    "{\n",
    "    \"cust_id\": 42,\n",
    "    \"ts\": 1513154110,\n",
    "    \"event_type\": \"temp_update\",\n",
    "    \"temperature\": 22,\n",
    "}\n",
    "```\n",
    "\n",
    "3. Napsat vlastny Spark Streaming program ktery\n",
    "    * Spocitat prumernu teplotu pro kazdeho zakaznika a vypsat 10\n",
    "    * Spocitat pocet udalosti per `event_type` a zapsat na HDFS\n",
    "    * Spocitat pocet mereni ktere meli teplotu vyssi nez 27"
   ]
  }
 ],
 "metadata": {
  "kernelspec": {
   "display_name": "Python 2",
   "language": "python",
   "name": "python2"
  },
  "language_info": {
   "codemirror_mode": {
    "name": "ipython",
    "version": 2
   },
   "file_extension": ".py",
   "mimetype": "text/x-python",
   "name": "python",
   "nbconvert_exporter": "python",
   "pygments_lexer": "ipython2",
   "version": "2.7.13"
  }
 },
 "nbformat": 4,
 "nbformat_minor": 2
}
